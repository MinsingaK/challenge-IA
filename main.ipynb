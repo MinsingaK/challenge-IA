{
  "nbformat": 4,
  "nbformat_minor": 0,
  "metadata": {
    "colab": {
      "provenance": [],
      "authorship_tag": "ABX9TyMZsdSRCCRXYT6Z0izsE8o+",
      "include_colab_link": true
    },
    "kernelspec": {
      "name": "python3",
      "display_name": "Python 3"
    },
    "language_info": {
      "name": "python"
    }
  },
  "cells": [
    {
      "cell_type": "markdown",
      "metadata": {
        "id": "view-in-github",
        "colab_type": "text"
      },
      "source": [
        "<a href=\"https://colab.research.google.com/github/MinsingaK/challenge-IA/blob/main/main.ipynb\" target=\"_parent\"><img src=\"https://colab.research.google.com/assets/colab-badge.svg\" alt=\"Open In Colab\"/></a>"
      ]
    },
    {
      "cell_type": "markdown",
      "source": [
        "## Selenium"
      ],
      "metadata": {
        "id": "UKZXSUt4o5IB"
      }
    },
    {
      "cell_type": "code",
      "execution_count": 25,
      "metadata": {
        "colab": {
          "base_uri": "https://localhost:8080/"
        },
        "id": "JxujXNdtoIH8",
        "outputId": "71ef4a84-ff0c-4ce5-cf8e-f87712859ba5"
      },
      "outputs": [
        {
          "output_type": "stream",
          "name": "stdout",
          "text": [
            "Hit:1 https://developer.download.nvidia.com/compute/cuda/repos/ubuntu2204/x86_64  InRelease\n",
            "Hit:2 http://archive.ubuntu.com/ubuntu jammy InRelease\n",
            "Hit:3 http://security.ubuntu.com/ubuntu jammy-security InRelease\n",
            "Hit:4 http://archive.ubuntu.com/ubuntu jammy-updates InRelease\n",
            "Hit:5 http://archive.ubuntu.com/ubuntu jammy-backports InRelease\n",
            "Hit:6 https://cloud.r-project.org/bin/linux/ubuntu jammy-cran40/ InRelease\n",
            "Hit:7 https://ppa.launchpadcontent.net/c2d4u.team/c2d4u4.0+/ubuntu jammy InRelease\n",
            "Hit:8 https://ppa.launchpadcontent.net/deadsnakes/ppa/ubuntu jammy InRelease\n",
            "Hit:9 https://ppa.launchpadcontent.net/graphics-drivers/ppa/ubuntu jammy InRelease\n",
            "Hit:10 https://ppa.launchpadcontent.net/ubuntugis/ppa/ubuntu jammy InRelease\n",
            "Reading package lists... Done\n",
            "cp: '/usr/lib/chromium-browser/chromedriver' and '/usr/bin/chromedriver' are the same file\n",
            "Requirement already satisfied: selenium in /usr/local/lib/python3.10/dist-packages (4.16.0)\n",
            "Requirement already satisfied: urllib3[socks]<3,>=1.26 in /usr/local/lib/python3.10/dist-packages (from selenium) (2.0.7)\n",
            "Requirement already satisfied: trio~=0.17 in /usr/local/lib/python3.10/dist-packages (from selenium) (0.24.0)\n",
            "Requirement already satisfied: trio-websocket~=0.9 in /usr/local/lib/python3.10/dist-packages (from selenium) (0.11.1)\n",
            "Requirement already satisfied: certifi>=2021.10.8 in /usr/local/lib/python3.10/dist-packages (from selenium) (2023.11.17)\n",
            "Requirement already satisfied: attrs>=20.1.0 in /usr/local/lib/python3.10/dist-packages (from trio~=0.17->selenium) (23.2.0)\n",
            "Requirement already satisfied: sortedcontainers in /usr/local/lib/python3.10/dist-packages (from trio~=0.17->selenium) (2.4.0)\n",
            "Requirement already satisfied: idna in /usr/local/lib/python3.10/dist-packages (from trio~=0.17->selenium) (3.6)\n",
            "Requirement already satisfied: outcome in /usr/local/lib/python3.10/dist-packages (from trio~=0.17->selenium) (1.3.0.post0)\n",
            "Requirement already satisfied: sniffio>=1.3.0 in /usr/local/lib/python3.10/dist-packages (from trio~=0.17->selenium) (1.3.0)\n",
            "Requirement already satisfied: exceptiongroup in /usr/local/lib/python3.10/dist-packages (from trio~=0.17->selenium) (1.2.0)\n",
            "Requirement already satisfied: wsproto>=0.14 in /usr/local/lib/python3.10/dist-packages (from trio-websocket~=0.9->selenium) (1.2.0)\n",
            "Requirement already satisfied: pysocks!=1.5.7,<2.0,>=1.5.6 in /usr/local/lib/python3.10/dist-packages (from urllib3[socks]<3,>=1.26->selenium) (1.7.1)\n",
            "Requirement already satisfied: h11<1,>=0.9.0 in /usr/local/lib/python3.10/dist-packages (from wsproto>=0.14->trio-websocket~=0.9->selenium) (0.14.0)\n",
            "Collecting chromedriver-autoinstaller\n",
            "  Downloading chromedriver_autoinstaller-0.6.3-py3-none-any.whl (7.6 kB)\n",
            "Requirement already satisfied: packaging>=23.1 in /usr/local/lib/python3.10/dist-packages (from chromedriver-autoinstaller) (23.2)\n",
            "Installing collected packages: chromedriver-autoinstaller\n",
            "Successfully installed chromedriver-autoinstaller-0.6.3\n"
          ]
        }
      ],
      "source": [
        "!apt-get update\n",
        "# !apt-get install -y chromium-chromedriver\n",
        "!cp /usr/lib/chromium-browser/chromedriver /usr/bin\n",
        "!pip install selenium\n",
        "!pip install chromedriver-autoinstaller"
      ]
    },
    {
      "cell_type": "code",
      "source": [
        "from selenium import webdriver\n",
        "import pandas as pd\n",
        "import time\n",
        "from bs4 import BeautifulSoup\n",
        "import chromedriver_autoinstaller\n",
        "from selenium.webdriver.common.by import By\n",
        "import sys\n",
        "sys.path.insert(0,'/usr/lib/chromium-browser/chromedriver')"
      ],
      "metadata": {
        "id": "ToZhVef7v2vF"
      },
      "execution_count": 37,
      "outputs": []
    },
    {
      "cell_type": "code",
      "source": [
        "chrome_options = webdriver.ChromeOptions()\n",
        "chrome_options.add_argument('--headless') # ensure GUI is off\n",
        "chrome_options.add_argument('--no-sandbox')\n",
        "chrome_options.add_argument('--disable-dev-shm-usage')"
      ],
      "metadata": {
        "id": "BBgH4Ox9o3Ev"
      },
      "execution_count": 28,
      "outputs": []
    },
    {
      "cell_type": "code",
      "source": [
        "chromedriver_autoinstaller.install()\n",
        "url = 'https://www.agenceecofin.com/marches/1201-115162-cote-divoire-cameroun-nigeria-la-fievre-des-cryptos-a-repris-de-plus-belle'\n",
        "driver = webdriver.Chrome(options=chrome_options)\n",
        "driver.get(url)"
      ],
      "metadata": {
        "id": "teOlvvhPo3J4"
      },
      "execution_count": 34,
      "outputs": []
    },
    {
      "cell_type": "code",
      "source": [
        "title = driver.find_element(by=By.XPATH, value=\"//h1[@class='itemTitle']\").text\n",
        "\n",
        "xpath_expression = \"//a[@href='/finance' and @title='Ecofin Finance']\"\n",
        "lien_finance = driver.find_element(by=By.XPATH, value=xpath_expression)\n",
        "url_lien_finance = lien_finance.get_attribute('href')\n",
        "\n",
        "date = driver.find_element(by=By.XPATH, value=\"//span[@class='itemDateCreated']\").text\n",
        "\n",
        "category = driver.find_element(by=By.XPATH, value=\"//div[@class='itemCategory']\").text\n",
        "author = 'None'\n",
        "content = driver.find_element(by=By.XPATH, value=\"//div[@class='itemIntroText']\").text\n",
        "print(content)"
      ],
      "metadata": {
        "id": "2C26IbQeo3OD",
        "colab": {
          "base_uri": "https://localhost:8080/"
        },
        "outputId": "d31a66a6-66c8-4c09-a075-83f6582986fb"
      },
      "execution_count": 49,
      "outputs": [
        {
          "output_type": "stream",
          "name": "stdout",
          "text": [
            "(Agence Ecofin) - Le Nigeria, le Cameroun et la Côte d'Ivoire sont les 3 champions du monde des recherches Google sur le mot \"crypto\" au cours des 7 derniers jours. Entre monnaies dévaluées ou instables et opportunités d'investissement dans un contexte de régulations dynamiques, les cryptomonnaies recommencent à passionner.\n",
            "Le Nigeria, le Cameroun et la Côte d'Ivoire se sont distingués au niveau mondial, occupant les trois premières places concernant les recherches de mots à la racine « crypto » au cours des 7 derniers jours, apprend-on des données sur les tendances des requêtes d'informations fournies par Google. Si le Nigéria est historiquement le pays d'Afrique où les cryptomonnaies sont les plus installées dans les habitudes, le Cameroun et la Côte d'Ivoire sont nouveaux à ce niveau du classement. \n",
            "Cette intensification des recherches sur Google concernant les cryptomonnaies dans les trois pays, coïncide avec une évolution majeure dans ce domaine. Le régulateur américain des marchés financiers (SEC) a donné sa permission aux investisseurs d'intégrer le Bitcoin dans leurs plans d'épargne. Cette décision va naturellement impacter le marché mondial des cryptomonnaies, et pourrait potentiellement influencer les dynamiques en Afrique.\n",
            "Bien que les cryptomonnaies ne soient pas strictement réglementées dans les zones CEMAC et UEMOA, elles ne sont pas interdites non plus. Les autorités des deux sous-régions ont seulement émis des avertissements, incitant les épargnants à la prudence.\n",
            "Au Cameroun et en Côte d’Ivoire, le nombre cumulé de personnes utilisant ou détenant des bitcoins atteignait 1,4 million, selon un rapport publié en décembre 2022 par le think tank marocain Policy Center of the New South.\n",
            "Les deux pays comptent désormais des pourvoyeurs de services sur les cryptomonnaies. Un exemple notoire est Ejara, une startup de transactions de Bitcoins fondée par des Camerounais, qui en 2022 a levé 8 millions $, selon le journal des transactions financières privées en Afrique mis à jour par l'Agence Ecofin.\n",
            "Cela dit, l'intérêt pour les cryptomonnaies et cryptoactifs continuera d’évoluer en fonction des contextes nationaux. Le Nigéria, confronté à une volatilité et une dévaluation de sa monnaie nationale, voit une hausse de l'intérêt pour les cryptomonnaies qui pourraient servir d’actif refuge face à l’inflation et la volatilité du naira. En revanche, dans les deux pays francophones qui bénéficient d’une monnaie stable, le Bitcoin attire principalement une jeunesse en quête de gains rapides.\n",
            "La valorisation globale actuelle des cryptomonnaies (1748 milliards $ au 12 janvier 2024), dominée à 52% par le Bitcoin, ne cesse de croître depuis son niveau le plus bas atteint en décembre 2022 (780 milliards $). La progression actuelle, loin d’être spontanée, est le fait du soutien actif de gros gestionnaires de fonds mondiaux comme l'américain BlackRock qui a contribue à introduire plus de sérénité dans le secteur.\n",
            "Ce regain d’intérêt constaté au Nigeria, au Cameroun et en Côte d’Ivoire signalent peut-être une nouvelle phase dans l’évolution des cryptomonnaies sur le continent. Il faudra alors continuer de surveiller les avancées de la régulation dans les pays concernés et évaluer l’impact de ces nouveaux produits financiers dans les différentes stratégies monétaires et de luttes contre la criminalité financière.\n"
          ]
        }
      ]
    },
    {
      "cell_type": "code",
      "source": [],
      "metadata": {
        "id": "euUChxSQo3Q0"
      },
      "execution_count": null,
      "outputs": []
    },
    {
      "cell_type": "code",
      "source": [],
      "metadata": {
        "id": "vsGOgDjWo3Tk"
      },
      "execution_count": null,
      "outputs": []
    }
  ]
}